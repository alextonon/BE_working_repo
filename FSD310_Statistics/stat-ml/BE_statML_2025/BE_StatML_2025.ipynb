{
 "cells": [
  {
   "cell_type": "markdown",
   "metadata": {},
   "source": [
    "# TP noté -- Statistical models for decision making - partie 2\n",
    "\n",
    "Cet devoir noté est composé de deux exercices. Il sera idéalement réalisé en binome et éventuellement seul. Les réponses seront données dans un notebook qui indiquera clairement les **noms et prénoms des élèves** l'ayant realisé.\n"
   ]
  },
  {
   "cell_type": "markdown",
   "metadata": {},
   "source": [
    "### Audrey Maurette\n",
    "### Alexandre TONON"
   ]
  },
  {
   "cell_type": "markdown",
   "metadata": {},
   "source": [
    "## Exercice 1\n",
    "\n",
    "Nous souhaitons évaluer si un nouveau produit a un effet significatif sur le rendement de moteurs. Pour y répondre, ce rendement (*Efficiency*) a été mesuré sur deux types de moteurs (*Brand_1* et *Brand_2*) et en testant différents niveaux de concentration (*Concentration*) du produit. Les observations sont dans le fichier *E2_Efficiency_Obs.csv*. Plus spécifiquement, nous nous demandons :\n",
    "- Le produit semble-t-il avoir un effet ?\n",
    "- Cet effet est-il différent en fonction de la marque du moteur ?\n",
    "- Cet effet dépend-il de la concentration du produit ?\n",
    "\n",
    "### Question 1.1 \n",
    "\n",
    "Ouvrez et observez les données. A leur vue, quelle vous semble être la réponse aux trois questions posées plus haut ?"
   ]
  },
  {
   "cell_type": "code",
   "execution_count": 11,
   "metadata": {},
   "outputs": [],
   "source": [
    "import pandas\n",
    "import numpy as np\n",
    "import matplotlib.pyplot as plt\n",
    "\n",
    "\n",
    "dataframe=pandas.read_csv(\"./E1_Efficiency_Obs.csv\",sep=',')"
   ]
  },
  {
   "cell_type": "code",
   "execution_count": 12,
   "metadata": {},
   "outputs": [
    {
     "data": {
      "text/html": [
       "<div>\n",
       "<style scoped>\n",
       "    .dataframe tbody tr th:only-of-type {\n",
       "        vertical-align: middle;\n",
       "    }\n",
       "\n",
       "    .dataframe tbody tr th {\n",
       "        vertical-align: top;\n",
       "    }\n",
       "\n",
       "    .dataframe thead th {\n",
       "        text-align: right;\n",
       "    }\n",
       "</style>\n",
       "<table border=\"1\" class=\"dataframe\">\n",
       "  <thead>\n",
       "    <tr style=\"text-align: right;\">\n",
       "      <th></th>\n",
       "      <th>Concentration</th>\n",
       "      <th>Efficiency</th>\n",
       "    </tr>\n",
       "  </thead>\n",
       "  <tbody>\n",
       "    <tr>\n",
       "      <th>count</th>\n",
       "      <td>50.000000</td>\n",
       "      <td>50.000000</td>\n",
       "    </tr>\n",
       "    <tr>\n",
       "      <th>mean</th>\n",
       "      <td>5.285968</td>\n",
       "      <td>3.749378</td>\n",
       "    </tr>\n",
       "    <tr>\n",
       "      <th>std</th>\n",
       "      <td>2.745240</td>\n",
       "      <td>1.397119</td>\n",
       "    </tr>\n",
       "    <tr>\n",
       "      <th>min</th>\n",
       "      <td>0.402640</td>\n",
       "      <td>1.099200</td>\n",
       "    </tr>\n",
       "    <tr>\n",
       "      <th>25%</th>\n",
       "      <td>3.458750</td>\n",
       "      <td>2.766100</td>\n",
       "    </tr>\n",
       "    <tr>\n",
       "      <th>50%</th>\n",
       "      <td>5.531650</td>\n",
       "      <td>3.790600</td>\n",
       "    </tr>\n",
       "    <tr>\n",
       "      <th>75%</th>\n",
       "      <td>7.627775</td>\n",
       "      <td>4.748475</td>\n",
       "    </tr>\n",
       "    <tr>\n",
       "      <th>max</th>\n",
       "      <td>9.858800</td>\n",
       "      <td>5.926600</td>\n",
       "    </tr>\n",
       "  </tbody>\n",
       "</table>\n",
       "</div>"
      ],
      "text/plain": [
       "       Concentration  Efficiency\n",
       "count      50.000000   50.000000\n",
       "mean        5.285968    3.749378\n",
       "std         2.745240    1.397119\n",
       "min         0.402640    1.099200\n",
       "25%         3.458750    2.766100\n",
       "50%         5.531650    3.790600\n",
       "75%         7.627775    4.748475\n",
       "max         9.858800    5.926600"
      ]
     },
     "execution_count": 12,
     "metadata": {},
     "output_type": "execute_result"
    }
   ],
   "source": [
    "dataframe.head()\n",
    "\n",
    "df_brand1 = dataframe[dataframe[\"Brand\"] == \"Brand_1\"]\n",
    "df_brand2 = dataframe[dataframe[\"Brand\"] == \"Brand_2\"]\n",
    "\n",
    "df_brand1.describe()"
   ]
  },
  {
   "cell_type": "code",
   "execution_count": 13,
   "metadata": {},
   "outputs": [
    {
     "data": {
      "text/html": [
       "<div>\n",
       "<style scoped>\n",
       "    .dataframe tbody tr th:only-of-type {\n",
       "        vertical-align: middle;\n",
       "    }\n",
       "\n",
       "    .dataframe tbody tr th {\n",
       "        vertical-align: top;\n",
       "    }\n",
       "\n",
       "    .dataframe thead th {\n",
       "        text-align: right;\n",
       "    }\n",
       "</style>\n",
       "<table border=\"1\" class=\"dataframe\">\n",
       "  <thead>\n",
       "    <tr style=\"text-align: right;\">\n",
       "      <th></th>\n",
       "      <th>Concentration</th>\n",
       "      <th>Efficiency</th>\n",
       "    </tr>\n",
       "  </thead>\n",
       "  <tbody>\n",
       "    <tr>\n",
       "      <th>count</th>\n",
       "      <td>20.000000</td>\n",
       "      <td>20.000000</td>\n",
       "    </tr>\n",
       "    <tr>\n",
       "      <th>mean</th>\n",
       "      <td>4.617638</td>\n",
       "      <td>4.216485</td>\n",
       "    </tr>\n",
       "    <tr>\n",
       "      <th>std</th>\n",
       "      <td>3.077085</td>\n",
       "      <td>1.066503</td>\n",
       "    </tr>\n",
       "    <tr>\n",
       "      <th>min</th>\n",
       "      <td>0.800660</td>\n",
       "      <td>2.177800</td>\n",
       "    </tr>\n",
       "    <tr>\n",
       "      <th>25%</th>\n",
       "      <td>2.075400</td>\n",
       "      <td>3.645375</td>\n",
       "    </tr>\n",
       "    <tr>\n",
       "      <th>50%</th>\n",
       "      <td>3.753500</td>\n",
       "      <td>4.030550</td>\n",
       "    </tr>\n",
       "    <tr>\n",
       "      <th>75%</th>\n",
       "      <td>6.873100</td>\n",
       "      <td>4.717200</td>\n",
       "    </tr>\n",
       "    <tr>\n",
       "      <th>max</th>\n",
       "      <td>9.974900</td>\n",
       "      <td>6.731900</td>\n",
       "    </tr>\n",
       "  </tbody>\n",
       "</table>\n",
       "</div>"
      ],
      "text/plain": [
       "       Concentration  Efficiency\n",
       "count      20.000000   20.000000\n",
       "mean        4.617638    4.216485\n",
       "std         3.077085    1.066503\n",
       "min         0.800660    2.177800\n",
       "25%         2.075400    3.645375\n",
       "50%         3.753500    4.030550\n",
       "75%         6.873100    4.717200\n",
       "max         9.974900    6.731900"
      ]
     },
     "execution_count": 13,
     "metadata": {},
     "output_type": "execute_result"
    }
   ],
   "source": [
    "df_brand2.describe()"
   ]
  },
  {
   "cell_type": "markdown",
   "metadata": {},
   "source": [
    "1) En supposant que le rendement initial (sans produit) soit de 1, il semble que le produit ait de l'effet car pour les deux marques, l'ensemble des valeurs de EFficiency sont supérieures à 1\n",
    "\n",
    "2) L'effet semble dépendre de la concentration pour chaque marque, il est donc difficile de répondre à cette question sans poursuivre l'étude car rien n'indique que les conditions de test sont identiques pour les deux marques : \n",
    "    - L'intervalle des valeurs testées n'est pas le même ([0,40, 9,86] pour la marque 1 et [0,80, 9,97])  \n",
    "    - Le nombre de valeurs testées est différent (50 pour la marque 1 et 20 pour la marque 2)  \n",
    "\n",
    "    Ainsi sans relation entre concentration et efficacité on ne peut pas conclure  \n",
    "\n",
    "3) Comme mentionné dans la 2. la concentration semble avoir un effet sur l'efficacité"
   ]
  },
  {
   "cell_type": "markdown",
   "metadata": {},
   "source": [
    "### Question 1.2 \n",
    "\n",
    "Afin de répondre aux questions, deux hypothèses sont formulées :\n",
    "- Pour chaque marque de moteur, la relation entre la concentration et le rendement est supposée linéaire.\n",
    "- La distribution du bruit des observations est supposé suivre une loi Normale centrée.\n",
    "\n",
    "Quelle démarche de modélisation statistique allez-vous utiliser pour répondre aux trois questions posées en introduction ? Une fois la démarche bien expliquée, testez la sur les données observées afin de conclure sur l'efficacité du produit."
   ]
  },
  {
   "cell_type": "markdown",
   "metadata": {},
   "source": [
    "Démarche :\n",
    "\n",
    "1) Pour s'assurer de l'effet du produit on estime le coefficient de la relation affine pour chaque marque tel que  \n",
    "Efficiency = B0 + B1 * Concentration :\n",
    "- Si B0 > 1 et B1 nul alors le produit a un effet positif sur l'efficacité mais celui ci ne dépend pas de la concentration\n",
    "- Si B0 = 1 et B1 nul alors l'efficacité est inchangée et le produit n'a pas d'impact\n",
    "- Si B1 est supérieur à 0 alors le produit a un effet positif sur l'efficacité et il dépend de la concentration. Et inversement si il est négatif\n",
    "\n",
    "2) Pour comparer l'effet par marque :\n",
    "- Dans un premier temps, on affiche nos regressions issues de l'estimation de nos paramètres réalisées en 1. et on regarde les tendances\n",
    "- Dans un second temps, comme nous avons peu de données, il se peu qu'on surrestime l'effet de la marque sur l'évolution de l'efficacité en fonction de la concentration. POur se forger une opinion plus robuste, on réalise un test statistiques : H0 = \"les droites sont de pentes identiques pour les deux marques\".\n",
    "Grace aux hypothèses relation linéaire et distribution du bruit qui suit une loi Normale centrée, on peut réaliser un test de Fischer.\n"
   ]
  },
  {
   "cell_type": "code",
   "execution_count": 33,
   "metadata": {},
   "outputs": [
    {
     "name": "stdout",
     "output_type": "stream",
     "text": [
      "Pour la marque 1, B0 est non nul et B1 vaut [0.4914818]\n",
      "Pour la marque 2, B0 est non nul et B1 vaut [0.3090176]\n"
     ]
    },
    {
     "data": {
      "image/png": "[encoded data removed]",
      "text/plain": [
       "<Figure size 640x480 with 1 Axes>"
      ]
     },
     "metadata": {},
     "output_type": "display_data"
    }
   ],
   "source": [
    "from sklearn.linear_model import LinearRegression\n",
    "import matplotlib.pyplot as plt\n",
    "\n",
    "lr_brand1 = LinearRegression()\n",
    "lr_brand2 = LinearRegression()\n",
    "\n",
    "lr_brand1.fit(df_brand1[\"Concentration\"].values.reshape(-1,1), df_brand1[\"Efficiency\"].values)\n",
    "lr_brand2.fit(df_brand2[\"Concentration\"].values.reshape(-1,1), df_brand2[\"Efficiency\"].values)\n",
    "\n",
    "\n",
    "plt.scatter(df_brand1['Concentration'], df_brand1['Efficiency'], color='blue', label='Brand_1 Data')\n",
    "plt.plot(df_brand1['Concentration'], lr_brand1.predict(df_brand1['Concentration'].values.reshape(-1,1)), color='navy', label='Brand_1 Regression')\n",
    "plt.xlabel('Concentration')\n",
    "plt.ylabel('Efficiency')\n",
    "plt.title('Scatter & Regression for Brand 1 & 2')\n",
    "\n",
    "plt.scatter(df_brand2['Concentration'], df_brand2['Efficiency'], color='orange', label='Brand_2 Data')\n",
    "plt.plot(df_brand2['Concentration'], lr_brand2.predict(df_brand2['Concentration'].values.reshape(-1,1)), color='red', label='Brand_2 Regression')\n",
    "plt.xlabel('Concentration')\n",
    "plt.ylabel('Efficiency')\n",
    "plt.legend()\n",
    "\n",
    "\n",
    "print(f\"Pour la marque 1, B0 est non nul et B1 vaut {lr_brand1.coef_}\")\n",
    "print(f\"Pour la marque 2, B0 est non nul et B1 vaut {lr_brand2.coef_}\")"
   ]
  },
  {
   "cell_type": "markdown",
   "metadata": {},
   "source": [
    "Les deux valeurs de B1 sont non nulles donc le produit à bien un effet sur l'efficacité.\n",
    "\n",
    "On constate qu'il y a  visuellement deux tendances différentes sur l'intervalle de concentration considéré. Pour autant cet écart est marqué dans les faibles concentration, qui sont possiblement moins fiables du point de vue de l'expérience. De plus on a peu de données Un test statistique s'impose donc pour valider cette hypothèse."
   ]
  },
  {
   "cell_type": "code",
   "execution_count": null,
   "metadata": {},
   "outputs": [],
   "source": []
  },
  {
   "cell_type": "markdown",
   "metadata": {},
   "source": [
    "## Exercice 2\n",
    "\n",
    "\n",
    "Afin d'estimer efficacement le niveau de fatigue des ailes d'un d'avion au cours des années, il a été proposé de lancer une étude pour évaluer s'il était possible de déduire le niveau de stress subit par les ailes de l'avion lors de phases de vols diverses avec de données capteurs acquises en routine pendant les vols. Une personne ayant une expertise mécanique sur le modèle d'avion étudié a alors quantifié le niveau de stress subi par les ailes dans différentes phases de vols et différents contextes. Nous allons mettre en lien ces niveaux de stress avec des données capteurs acquises au même moment que les annotations. Nous allons pour cela utiliser la régression linaire. \n",
    "\n",
    "\n",
    "### QUESTION 2.1\n",
    "\n",
    "Les données d'apprentissage sont dans les fichiers *E2_sensor_vals.csv* et *E2_stress_vals.csv*. Ouvrez ces fichiers et mettez les données dans des numpy arrays ou des pandas dataframes *X* et *Y*. Représentez alors le lien entre les valeurs issues de chaque capteur et le niveau de stress dans des nuages de points 2D. Identifiez-vous des relations entre des données capteur et le niveau de stress ? Quels capteurs vous paraissent être les plus pertinents.\n",
    " "
   ]
  },
  {
   "cell_type": "code",
   "execution_count": null,
   "metadata": {},
   "outputs": [],
   "source": [
    "import pandas\n",
    "import numpy as np\n",
    "import matplotlib.pyplot as plt\n",
    "from sklearn import preprocessing\n",
    "\n",
    "\n",
    "#X=...\n",
    "\n",
    "#Y=...\n",
    "\n",
    "#TODO\n"
   ]
  },
  {
   "cell_type": "markdown",
   "metadata": {},
   "source": [
    "\n",
    "### QUESTION 2.2\n",
    "On se demande s'il est possible de prédire le niveau de stress à partir d'**une seule** des variables *sensor_01*, *sensor_12* ou *sensor_15*.\n",
    "\n",
    "\n",
    "#### QUESTION 2.2.1\n",
    "\n",
    "Effectuez une régression linéaire simple entre chacune de ces trois variables et le niveau de stress. Quelle stratégie de validation croisée vous semble être la plus adaptée sur ce jeu de données ?\n",
    "\n",
    "\n",
    "#### QUESTION 2.2.2\n",
    "\n",
    "Peut-on statistiquement affirmer qu'il existe une relation significative entre le niveau de stress et (indépendament) *sensor_01*, *sensor_12* ou bien *sensor_15* ? Si oui, décrivez votre procédure de test.\n"
   ]
  },
  {
   "cell_type": "code",
   "execution_count": null,
   "metadata": {},
   "outputs": [],
   "source": []
  },
  {
   "cell_type": "markdown",
   "metadata": {},
   "source": [
    "\n",
    "### QUESTION 2.3\n",
    "\n",
    "On s'intéresse maintenant au lien entre la variable *sensor_12* et le niveau de stress. On peut remarquer qu'il semble exister une relation linéaire entre ces variables, mais que les données contiennent aussi deux valeurs aberrantes.\n",
    "\n",
    "\n",
    "#### QUESTION 2.3.1\n",
    "\n",
    "**Stratégie 1** : Quelle stratégie utiliseriez vous pour détecter automatiquement des données aberrantes dans un jeu de données ?\n",
    "\n",
    "#### QUESTION 2.3.2\n",
    "\n",
    "**Stratégie 2** : Nous allons ici utiliser toutes les observations pour l'apprentissage du modèle linéaire et sa validation. En supposant que les erreurs de prédiction suivent une loi normale centrée, pourrait-on aussi détecter les outliers à partir d'un test d'hypothèse. Si oui, décrivez la procédure.\n"
   ]
  },
  {
   "cell_type": "code",
   "execution_count": null,
   "metadata": {},
   "outputs": [],
   "source": []
  },
  {
   "cell_type": "markdown",
   "metadata": {},
   "source": [
    "\n",
    "### QUESTION 2.4\n",
    "\n",
    "\n",
    "Nous supprimerons dans cette question les deux observations qui sont aberrantes sur la variable *sensor_12*.\n",
    "\n",
    "Nous souhaitons maintenant sélectionner automatiquement un nombre réduit, mais supérieur à 1, de capteurs qui nous permettraient de prédire au mieux le niveau de stress. Nous allons pour cela utiliser la régression multiple avec un terme de régularisation.\n",
    "\n",
    "#### QUESTION 2.4.1\n",
    "\n",
    "Avant d'effectuer une régression linéaire régularisée, il est vivement conseillé d'effectuer une étape de centrage réduction des données. Pourquoi ?\n",
    "\n",
    "\n",
    "#### QUESTION 2.4.2\n",
    "\n",
    "Décrivez votre démarche de sélection de variables et vos résultats. Est-ce que l'utilisation des données capteurs vous semble fiable ? \n",
    "\n",
    "\n",
    "#### QUESTION 2.4.3\n",
    "\n",
    "Quelle démarche auriez-vous pour rendre compte des résultats de cette étude sachant que les données contenaient tout de même deux outliers ?\n",
    "\n"
   ]
  },
  {
   "cell_type": "code",
   "execution_count": null,
   "metadata": {},
   "outputs": [],
   "source": []
  },
  {
   "cell_type": "code",
   "execution_count": null,
   "metadata": {},
   "outputs": [],
   "source": []
  }
 ],
 "metadata": {
  "kernelspec": {
   "display_name": "myenv",
   "language": "python",
   "name": "python3"
  },
  "language_info": {
   "codemirror_mode": {
    "name": "ipython",
    "version": 3
   },
   "file_extension": ".py",
   "mimetype": "text/x-python",
   "name": "python",
   "nbconvert_exporter": "python",
   "pygments_lexer": "ipython3",
   "version": "3.12.11"
  }
 },
 "nbformat": 4,
 "nbformat_minor": 4
}
